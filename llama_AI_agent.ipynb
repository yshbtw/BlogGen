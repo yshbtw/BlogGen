{
 "cells": [
  {
   "cell_type": "code",
   "execution_count": null,
   "metadata": {
    "id": "kWDQZp6OI2nF"
   },
   "outputs": [],
   "source": [
    "# API KEY"
   ]
  },
  {
   "cell_type": "code",
   "execution_count": null,
   "metadata": {
    "colab": {
     "base_uri": "https://localhost:8080/"
    },
    "id": "v0gqE7RqWj3L",
    "outputId": "3135d625-b45d-48c1-ebff-cfd62e7980df"
   },
   "outputs": [
    {
     "name": "stdout",
     "output_type": "stream",
     "text": [
      "\u001b[?25l   \u001b[90m━━━━━━━━━━━━━━━━━━━━━━━━━━━━━━━━━━━━━━━━\u001b[0m \u001b[32m0.0/106.5 kB\u001b[0m \u001b[31m?\u001b[0m eta \u001b[36m-:--:--\u001b[0m\r\u001b[2K   \u001b[91m━━━━━━━━━━━━━━━━━━━━━━━━━━━━━━━━━━━━━━\u001b[0m\u001b[90m╺\u001b[0m\u001b[90m━\u001b[0m \u001b[32m102.4/106.5 kB\u001b[0m \u001b[31m4.2 MB/s\u001b[0m eta \u001b[36m0:00:01\u001b[0m\r\u001b[2K   \u001b[90m━━━━━━━━━━━━━━━━━━━━━━━━━━━━━━━━━━━━━━━━\u001b[0m \u001b[32m106.5/106.5 kB\u001b[0m \u001b[31m2.4 MB/s\u001b[0m eta \u001b[36m0:00:00\u001b[0m\n",
      "\u001b[?25h"
     ]
    }
   ],
   "source": [
    "!pip install -q groq"
   ]
  },
  {
   "cell_type": "code",
   "execution_count": null,
   "metadata": {
    "id": "YYyzOZoPWy5V"
   },
   "outputs": [],
   "source": [
    "import os\n",
    "from groq import Groq"
   ]
  },
  {
   "cell_type": "code",
   "execution_count": null,
   "metadata": {
    "id": "7VS2FV4mWmon"
   },
   "outputs": [],
   "source": [
    "client = Groq(\n",
    "    api_key=\"Your Groq API key\"\n",
    ")"
   ]
  },
  {
   "cell_type": "code",
   "execution_count": null,
   "metadata": {
    "id": "pyhJTTGaXa30"
   },
   "outputs": [],
   "source": [
    "llama_70B = \"llama-3.1-70b-versatile\"\n",
    "llama_405B = \"llama-3.1-405B-reasoning\""
   ]
  },
  {
   "cell_type": "code",
   "execution_count": null,
   "metadata": {
    "colab": {
     "base_uri": "https://localhost:8080/"
    },
    "id": "AZ8rlpFhXGp4",
    "outputId": "c962a21b-ad06-41d2-aa78-ea5c4e101fde"
   },
   "outputs": [
    {
     "name": "stdout",
     "output_type": "stream",
     "text": [
      "Fast language models are AI systems that can understand and generate human-like language quickly and efficiently. The importance of fast language models lies in their numerous applications and benefits, including:\n",
      "\n",
      "1. **Efficient Information Retrieval**: Fast language models can rapidly process large amounts of text data, enabling quick search and retrieval of relevant information. This has far-reaching implications for fields like research, education, and customer support.\n",
      "2. **Improved Chatbots and Virtual Assistants**: Fast language models can power chatbots and virtual assistants to respond to user queries quickly, providing a seamless and efficient experience for users. This can lead to increased customer satisfaction and engagement in areas like customer service, healthcare, and e-commerce.\n",
      "3. **Enhanced Language Translation**: Fast language models can accelerate machine translation, breaking down language barriers and enabling real-time communication across languages. This can have significant implications for global business, travel, and international relations.\n",
      "4. **Real-time Sentiment Analysis**: Fast language models can rapidly analyze text data to gauge sentiment, detecting emotions, opinions, and trends. This can inform decision-making in areas like marketing, finance, and social media monitoring.\n",
      "5. **Efficient Content Generation**: Fast language models can quickly generate high-quality content, such as articles, blog posts, and social media updates. This can help content creators, marketers, and businesses to scale their content production.\n",
      "6. **Conversational Interfaces**: Fast language models can power conversational interfaces, such as voice assistants, smart speakers, and messaging platforms. This can revolutionize human-computer interaction, making it more natural, intuitive, and accessible.\n",
      "7. **Medical Applications**: Fast language models can help analyze medical texts, such as research articles, clinical notes, and patient data. This can inform medical decision-making, diagnose diseases more accurately, and improve patient outcomes.\n",
      "8. **Social Media Monitoring**: Fast language models can monitor social media conversations in real-time, detecting brand mentions, sentiment, and trending topics. This can help businesses, organizations, and individuals to stay on top of social media trends and respond promptly.\n",
      "9. **Cybersecurity**: Fast language models can analyze text-based attacks, such as phishing emails, to detect and prevent cyber threats in real-time.\n",
      "10. **Research and Development**: Fast language models can assist researchers in analyzing large datasets, identifying patterns, and generating new hypotheses. This can accelerate scientific progress, innovation, and discovery.\n",
      "\n",
      "The benefits of fast language models are far-reaching, with applications in industries like:\n",
      "\n",
      "* Customer service\n",
      "* Marketing and advertising\n",
      "* Healthcare and medicine\n",
      "* Education and research\n",
      "* Finance and banking\n",
      "* Social media and online platforms\n",
      "* Government and public sector\n",
      "\n",
      "As fast language models continue to evolve and improve, we can expect to see even more innovative applications and uses emerge in the future.\n"
     ]
    }
   ],
   "source": [
    "chat_completion = client.chat.completions.create(\n",
    "    messages=[\n",
    "        {\n",
    "            \"role\": \"user\",\n",
    "            \"content\": \"Explain the importance of fast language models\",\n",
    "        }\n",
    "    ],\n",
    "    model=llama_70B,\n",
    ")\n",
    "print(chat_completion.choices[0].message.content)"
   ]
  },
  {
   "cell_type": "code",
   "execution_count": null,
   "metadata": {
    "colab": {
     "base_uri": "https://localhost:8080/"
    },
    "id": "9hjvBCKPeNEu",
    "outputId": "157fb18a-b643-4c42-c22c-ffa4f99fed13"
   },
   "outputs": [
    {
     "name": "stdout",
     "output_type": "stream",
     "text": [
      "\u001b[?25l   \u001b[90m━━━━━━━━━━━━━━━━━━━━━━━━━━━━━━━━━━━━━━━━\u001b[0m \u001b[32m0.0/68.1 kB\u001b[0m \u001b[31m?\u001b[0m eta \u001b[36m-:--:--\u001b[0m\r\u001b[2K   \u001b[90m━━━━━━━━━━━━━━━━━━━━━━━━━━━━━━━━━━━━━━━━\u001b[0m \u001b[32m68.1/68.1 kB\u001b[0m \u001b[31m2.0 MB/s\u001b[0m eta \u001b[36m0:00:00\u001b[0m\n",
      "\u001b[?25h"
     ]
    }
   ],
   "source": [
    "!pip install -q together"
   ]
  },
  {
   "cell_type": "code",
   "execution_count": null,
   "metadata": {
    "id": "F1sjwF4MXWm6"
   },
   "outputs": [],
   "source": [
    "from together import Together"
   ]
  },
  {
   "cell_type": "code",
   "execution_count": null,
   "metadata": {
    "id": "loc7MefxeXk6"
   },
   "outputs": [],
   "source": [
    "Together_client = Together(api_key=\"b4a792993808553465fc7f5adc805458b5eb0cd89a6abfdace09e5246cd055ec\")"
   ]
  },
  {
   "cell_type": "code",
   "execution_count": null,
   "metadata": {
    "colab": {
     "base_uri": "https://localhost:8080/"
    },
    "id": "d1xF7oLAe81e",
    "outputId": "6eff236e-821f-4314-c8a4-2ca090743a92"
   },
   "outputs": [
    {
     "name": "stdout",
     "output_type": "stream",
     "text": [
      "I'm not able to provide information beyond my knowledge cutoff date of 01 March 2023. However, I can still help answer general questions or provide information up to that point. How can I assist you today?"
     ]
    }
   ],
   "source": [
    "response = Together_client.chat.completions.create(\n",
    "    model=\"meta-llama/Meta-Llama-3.1-405B-Instruct-Turbo\",\n",
    "    messages=[],\n",
    "    max_tokens=512,\n",
    "    temperature=0.7,\n",
    "    top_p=0.7,\n",
    "    top_k=50,\n",
    "    repetition_penalty=1,\n",
    "    stop=[\"<|eot_id|>\",\"<|eom_id|>\"],\n",
    "    stream=True\n",
    ")\n",
    "for token in response:\n",
    "    if hasattr(token, 'choices'):\"\"\n",
    "        print(token.choices[0].delta.content, end='', flush=True)"
   ]
  },
  {
   "cell_type": "code",
   "execution_count": null,
   "metadata": {
    "id": "xCbEFEgooUr3"
   },
   "outputs": [],
   "source": [
    "def get_user_category():\n",
    "    valid_categories = [\"Tech\", \"Entertainment\", \"Automobile\"]\n",
    "\n",
    "    print(\"Please choose a category from the following options:\")\n",
    "    for idx, category in enumerate(valid_categories, 1):\n",
    "        print(f\"{idx}. {category}\")\n",
    "\n",
    "    while True:\n",
    "        try:\n",
    "            choice = int(input(\"Enter the number of your chosen category (1-3): \"))\n",
    "            if 1 <= choice <= 3:\n",
    "                selected_category = valid_categories[choice-1]\n",
    "                print(f\"\\nYou selected: {selected_category}\")\n",
    "                return selected_category\n",
    "            else:\n",
    "                print(\"Please enter a number between 1 and 3.\")\n",
    "        except ValueError:\n",
    "            print(\"Please enter a valid number.\")"
   ]
  },
  {
   "cell_type": "code",
   "execution_count": null,
   "metadata": {
    "id": "H_V3_TpJp23P"
   },
   "outputs": [],
   "source": [
    "def get_sample_blogs():\n",
    "    print(\"\\nPlease provide 6-7 sample blogs about your topic.\")\n",
    "    print(\"Paste each blog and press Enter twice when finished with each blog.\")\n",
    "    print(\"Type 'DONE' on a new line when you've finished entering all blogs.\")\n",
    "\n",
    "    blogs = []\n",
    "    current_blog = []\n",
    "\n",
    "    while True:\n",
    "        line = input()\n",
    "\n",
    "        if line.strip().upper() == 'DONE':\n",
    "            if current_blog:\n",
    "                blogs.append('\\n'.join(current_blog))\n",
    "            break\n",
    "\n",
    "        if line.strip() == '':\n",
    "            if current_blog:\n",
    "                blogs.append('\\n'.join(current_blog))\n",
    "                current_blog = []\n",
    "        else:\n",
    "            current_blog.append(line)\n",
    "\n",
    "    return blogs"
   ]
  },
  {
   "cell_type": "code",
   "execution_count": null,
   "metadata": {
    "colab": {
     "base_uri": "https://localhost:8080/"
    },
    "id": "krhnB9jCqDcs",
    "outputId": "5dd61e54-69e3-4297-a835-998eed76cef6"
   },
   "outputs": [
    {
     "name": "stdout",
     "output_type": "stream",
     "text": [
      "Please choose a category from the following options:\n",
      "1. Tech\n",
      "2. Entertainment\n",
      "3. Automobile\n",
      "Enter the number of your chosen category (1-3): 1\n",
      "\n",
      "You selected: Tech\n",
      "\n",
      "whats the topic u wanna make blog about.\n",
      "phone gta 7 pro\n",
      "\n",
      "if the topic is phone paste the specs here\n",
      "Redmi Note 14 Pro Plus Color Options and Design The Redmi Note 14 Pro Plus offers a refined and elegant design, with a choice of sophisticated color options: Sand Star Green, Mirror Porcelain White, and Midnight Black. Its sleek, curved back seamlessly integrates with a unique squircle camera island, giving it a distinctive look. Unlike its sibling, the Note 14 Pro, this model features bold individual camera rings, adding a touch of modern flair while highlighting its impressive camera capabilities.  Redmi Note 14 Pro Plus Price in India (Expected) The Redmi Note 14 Pro Plus, already launched in the Chinese market, is expected to make its debut in India around late December or early January 2025. Fans can anticipate the sale to kick off between January 10 and 15, giving eager buyers an exciting start to the new year. This anticipated launch promises to bring Redmi’s latest innovations to the Indian market, adding yet another feature-rich option to the popular Note series.  Redmi Note 14 Pro Plus Launch Date in India (Expected) The Redmi Note 14 Pro Plus is expected to launch in India with a starting price around ₹30,000 for the base variant, making it a strong contender in the mid-range segment. In China, the device is priced from RMB 1,999 (approximately ₹23,900), with an introductory RMB 100 discount on all new models during the first sale. As the Indian release date draws closer, fans are eager to see if similar offers and discounts will be available, as well as how the pricing will scale across different configurations.\n",
      "\n",
      "Now, let's collect some sample blogs for reference.\n",
      "\n",
      "Please provide 6-7 sample blogs about your topic.\n",
      "Paste each blog and press Enter twice when finished with each blog.\n",
      "Type 'DONE' on a new line when you've finished entering all blogs.\n",
      "done\n",
      "\n",
      "Now, let's collect the blog format\n",
      "Redmi Note 14 Pro Plus Color Options and Design The Redmi Note 14 Pro Plus offers a refined and elegant design, with a choice of sophisticated color options: Sand Star Green, Mirror Porcelain White, and Midnight Black. Its sleek, curved back seamlessly integrates with a unique squircle camera island, giving it a distinctive look. Unlike its sibling, the Note 14 Pro, this model features bold individual camera rings, adding a touch of modern flair while highlighting its impressive camera capabilities.  Redmi Note 14 Pro Plus Price in India (Expected) The Redmi Note 14 Pro Plus, already launched in the Chinese market, is expected to make its debut in India around late December or early January 2025. Fans can anticipate the sale to kick off between January 10 and 15, giving eager buyers an exciting start to the new year. This anticipated launch promises to bring Redmi’s latest innovations to the Indian market, adding yet another feature-rich option to the popular Note series.  Redmi Note 14 Pro Plus Launch Date in India (Expected) The Redmi Note 14 Pro Plus is expected to launch in India with a starting price around ₹30,000 for the base variant, making it a strong contender in the mid-range segment. In China, the device is priced from RMB 1,999 (approximately ₹23,900), with an introductory RMB 100 discount on all new models during the first sale. As the Indian release date draws closer, fans are eager to see if similar offers and discounts will be available, as well as how the pricing will scale across different configurations.\n"
     ]
    }
   ],
   "source": [
    "def collect_user_input():\n",
    "    # Get category\n",
    "    category = get_user_category()\n",
    "\n",
    "    # get topic name\n",
    "    print(\"\\nwhats the topic u wanna make blog about.\")\n",
    "    topic = input()\n",
    "\n",
    "     # get topic name\n",
    "    if \"phone\" in topic:\n",
    "      print(\"\\nif the topic is phone paste the specs here\")\n",
    "      specs = input()\n",
    "    else:\n",
    "      specs = \"\"\n",
    "\n",
    "    # Get sample blogs\n",
    "    print(\"\\nNow, let's collect some sample blogs for reference.\")\n",
    "    sample_blogs = get_sample_blogs()\n",
    "\n",
    "    #get the blog format\n",
    "    print(\"\\nNow, let's collect the blog format\")\n",
    "    blog_format = input()\n",
    "\n",
    "    return {\n",
    "        \"category\": category,\n",
    "        \"topic\": topic,\n",
    "        \"specs\": specs,\n",
    "        \"sample_blogs\": sample_blogs,\n",
    "        \"blog_format\": blog_format\n",
    "    }\n",
    "\n",
    "# Test the complete input collection\n",
    "user_input = collect_user_input()"
   ]
  },
  {
   "cell_type": "code",
   "execution_count": null,
   "metadata": {
    "id": "L6ORaFPNO96K"
   },
   "outputs": [],
   "source": [
    "# Define your blog format\n",
    "BLOG_FORMAT = \"\"\"\n",
    "[Add your specific blog format here]\n",
    "For example:\n",
    "1. Catchy Title\n",
    "2. Introduction\n",
    "   - Hook sentence\n",
    "   - Brief overview\n",
    "3. Main Content\n",
    "   - Key points\n",
    "   - Supporting details\n",
    "4. Conclusion\n",
    "   [Add more specific sections and subsections as needed]\n",
    "\"\"\"\n"
   ]
  },
  {
   "cell_type": "code",
   "execution_count": null,
   "metadata": {
    "id": "IB-Jla1puu2O"
   },
   "outputs": [],
   "source": [
    "def create_search_queries(user_input, blog_format):\n",
    "    # Adding blog format to the prompt\n",
    "        prompt = f\"\"\"\n",
    "        I need to write a blog about {user_input['topic']} in the {user_input['category']} category\n",
    "        following this specific format:\n",
    "\n",
    "        {BLOG_FORMAT}\n",
    "\n",
    "        Create 7-8 specific search queries that will help me gather information for each section of my blog format.\n",
    "\n",
    "        Make sure the queries will help find information that fits my format exactly.\n",
    "\n",
    "        Format each query on a new line, and indicate which section of the blog it's for.\n",
    "        \"\"\"\n",
    "\n",
    "    # Use the Llama model to generate targeted queries\n",
    "        chat_completion = client.chat.completions.create(\n",
    "        messages=[\n",
    "            {\n",
    "                \"role\": \"user\",\n",
    "                \"content\": prompt,\n",
    "            }\n",
    "        ],\n",
    "        model=llama_70B,\n",
    "    )\n",
    "\n",
    "    # Extract and process the queries\n",
    "        generated_queries = chat_completion.choices[0].message.content.strip().split('\\n')\n",
    "        queries = [q.strip() for q in generated_queries if q.strip()]\n",
    "\n",
    "        return queries"
   ]
  },
  {
   "cell_type": "code",
   "execution_count": null,
   "metadata": {
    "id": "jfQheFhbQS1s"
   },
   "outputs": [],
   "source": [
    "def format_blog_output(blog_content):\n",
    "    \"\"\"Format the blog with proper spacing and styling\"\"\"\n",
    "    print(\"\\n\" + \"=\"*50)\n",
    "    print(\"GENERATED BLOG POST\")\n",
    "    print(\"=\"*50 + \"\\n\")\n",
    "    print(blog_content)\n",
    "    print(\"\\n\" + \"=\"*50)"
   ]
  },
  {
   "cell_type": "code",
   "execution_count": null,
   "metadata": {
    "id": "GNUJJLRzwWBu"
   },
   "outputs": [],
   "source": [
    "def save_blog_to_file(blog_content, user_input):\n",
    "    \"\"\"Save the blog to a text file\"\"\"\n",
    "    import datetime\n",
    "\n",
    "    timestamp = datetime.datetime.now().strftime(\"%Y%m%d_%H%M%S\")\n",
    "    filename = f\"blog_{user_input['category']}_{timestamp}.txt\"\n",
    "\n",
    "    with open(filename, 'w', encoding='utf-8') as f:\n",
    "        f.write(blog_content)\n",
    "\n",
    "    return filename"
   ]
  },
  {
   "cell_type": "code",
   "execution_count": null,
   "metadata": {
    "id": "BM-O3t1tQr8g"
   },
   "outputs": [],
   "source": [
    "def create_blog_content(user_input, generated_queries, blog_format):\n",
    "    # Create comprehensive prompt for blog generation\n",
    "    context = f\"\"\"\n",
    "    Write a comprehensive blog about {user_input['topic']} in the {user_input['category']} category.\n",
    "\n",
    "    Reference Blogs Provided:\n",
    "    {' '.join(user_input['sample_blogs'])}\n",
    "\n",
    "    Research Queries Used:\n",
    "    {' '.join(generated_queries)}\n",
    "\n",
    "    Required Format:\n",
    "    {blog_format}\n",
    "\n",
    "    Additional Requirements:\n",
    "    1. Use engaging and professional tone\n",
    "    2. Include relevant statistics and data\n",
    "    3. Make it SEO-friendly\n",
    "    4. Add subheadings for better readability\n",
    "    5. Keep paragraphs short and focused\n",
    "    \"\"\"\n",
    "\n",
    "    # Generate blog using Llama model\n",
    "    chat_completion = client.chat.completions.create(\n",
    "        messages=[\n",
    "            {\n",
    "                \"role\": \"user\",\n",
    "                \"content\": context,\n",
    "            }\n",
    "        ],\n",
    "        model=llama_70B,\n",
    "    )\n",
    "\n",
    "    return chat_completion.choices[0].message.content"
   ]
  },
  {
   "cell_type": "code",
   "execution_count": null,
   "metadata": {
    "id": "Quv69B0iwYBt"
   },
   "outputs": [],
   "source": [
    "# Main function to orchestrate blog generation\n",
    "def generate_final_blog():\n",
    "    try:\n",
    "        # 1. Collect user input (using previously defined function)\n",
    "        print(\"Step 1: Collecting user input...\")\n",
    "        user_input = collect_user_input()\n",
    "\n",
    "        # 2. Generate search queries\n",
    "        print(\"\\nStep 2: Generating optimized search queries...\")\n",
    "        queries = create_search_queries(user_input, BLOG_FORMAT)\n",
    "\n",
    "        # 3. Generate blog content\n",
    "        print(\"\\nStep 3: Creating blog content...\")\n",
    "        blog_content = create_blog_content(user_input, queries, BLOG_FORMAT)\n",
    "\n",
    "        # 4. Format and display blog\n",
    "        format_blog_output(blog_content)\n",
    "\n",
    "        # 5. Save blog to file\n",
    "        filename = save_blog_to_file(blog_content, user_input)\n",
    "        print(f\"\\nBlog saved to: {filename}\")\n",
    "\n",
    "        return blog_content, filename\n",
    "\n",
    "    except Exception as e:\n",
    "        print(f\"Error during blog generation: {str(e)}\")\n",
    "        return None, None"
   ]
  },
  {
   "cell_type": "code",
   "execution_count": null,
   "metadata": {
    "colab": {
     "base_uri": "https://localhost:8080/"
    },
    "id": "MuclrFo50QOR",
    "outputId": "861ac03c-30ce-44c1-c634-259b5a979ee6"
   },
   "outputs": [
    {
     "name": "stdout",
     "output_type": "stream",
     "text": [
      "Step 1: Collecting user input...\n",
      "Please choose a category from the following options:\n",
      "1. Tech\n",
      "2. Entertainment\n",
      "3. Automobile\n",
      "Enter the number of your chosen category (1-3): 1\n",
      "\n",
      "You selected: Tech\n",
      "\n",
      "whats the topic u wanna make blog about.\n",
      "phone realme gt 7 pro\n",
      "\n",
      "if the topic is phone paste the specs here\n",
      "Specification\tDetails Key Specs\t RAM\t12 GB Processor\tQualcomm Snapdragon 8 Elite Rear Camera\t50 MP + 8 MP + 50 MP Front Camera\t16 MP Battery\t6500 mAh Display\t6.78 inches (17.22 cm) General\t Operating System\tAndroid v14 Performance\t Chipset\tQualcomm Snapdragon 8 Elite RAM\t12 GB Display\t Display Type\tLTPO OLED Screen Size\t6.78 inches (17.22 cm) Bezel-less Display\tYes, with punch-hole display Touch Screen\tYes, Capacitive Touchscreen, Multi-touch Camera\t Rear Camera Setup\tTriple Rear Camera Resolution\t50 MP (Primary), 8 MP, 50 MP Flash\tYes, LED Flash Front Camera Setup\tSingle Front Camera Resolution\t16 MP, Primary Camera Battery\t Capacity\t6500 mAh Removable\tNo Quick Charging\tYes, Fast Storage\t Internal Memory\t256 GB Network & Connectivity\t SIM Slot(s)\tSingle SIM Network Support\t5G Supported in India, 4G, 3G, 2G VoLTE\tYes SIM 1\t5G Bands: FDD N3, TDD N40; 4G Bands: TD-LTE 2300 (band 40), FD-LTE 1800 (band 3); 3G Bands: UMTS 2100 / 900 MHz; 2G Bands: GSM 1800 / 900 MHz GPRS\tAvailable EDGE\tAvailable Network Technology\t Technology\tGSM / HSPA / LTE / 5G 2G Bands\tGSM 850 / 900 / 1800 / 1900 – SIM 1 & SIM 2 3G Bands\tHSDPA 800 / 850 / 900 / 1700(AWS) / 1900 / 2100 4G Bands\tLTE 5G Bands\tSA/NSA Speed\tHSPA, LTE, 5G Launch\t Announced\tNot announced yet Status\tRumored Body\t Dimensions\t162.5 x 76.9 x 8.6 mm (6.40 x 3.03 x 0.34 in) Weight\t222.8 g (7.87 oz) SIM\tDual SIM (Nano-SIM, dual stand-by) Waterproof Rating\tIP68 dust and water resistant Advanced Display\t Type\tLTPO AMOLED, 1B colors, 120Hz, HDR, Dolby Vision Screen Size\t6.78 inches (~89.4% screen-to-body ratio) Resolution\t1264 x 2780 pixels (~450 ppi density) Protection\tCorning Gorilla Glass Victus 2 Platform\t OS\tAndroid 15 Chipset\tQualcomm SM8750-AB Snapdragon 8 Elite (3 nm) CPU\tOcta-core (2×4.20 GHz Oryon V2 Phoenix L + 6×3.53 GHz Oryon V2 Phoenix M) GPU\tAdreno 830 Memory\t Card Slot\tNo Internal\tUp to 1TB, 24GB RAM, UFS 4.0 Main Camera\t Camera Setup\tTriple: 50 MP (wide), 50 MP (periscope telephoto, 3x optical zoom), 8 MP (ultrawide) Features\tDual-LED flash, HDR, panorama Video\t4K@30/60fps, 1080p@30/60/120fps, gyro-EIS, OIS Selfie Camera\t Camera Setup\tSingle: 16 MP (wide) Features\tPanorama Video\t4K@30fps, 1080p@30fps, gyro-EIS Sound\t Loudspeaker\tYes, with stereo speakers 3.5mm Jack\tNo Hi-Res Audio\t24-bit/192kHz Connectivity\t WLAN\tWi-Fi 802.11 a/b/g/n/ac/6/7, dual-band Bluetooth\t5.4, A2DP, LE Positioning\tGPS (L1+L5), BDS (B1I+B1c+B2a), GALILEO (E1+E5a), QZSS (L1+L5), NavIC, GLONASS NFC\tYes Infrared Port\tYes USB\tUSB Type-C Features\t Sensors\tFingerprint (under display, ultrasonic), accelerometer, gyro, proximity, compass, color spectrum Battery\t Type\t6500 mAh, non-removable Charging\t120W wired Miscellaneous\t Colors\tGray, White, Orange Models\tRMX5010, RMX5011\n",
      "\n",
      "Now, let's collect some sample blogs for reference.\n",
      "\n",
      "Please provide 6-7 sample blogs about your topic.\n",
      "Paste each blog and press Enter twice when finished with each blog.\n",
      "Type 'DONE' on a new line when you've finished entering all blogs.\n",
      "The Realme GT 7 Pro is generating a buzz in the tech community, expected to debut soon with powerful, cutting-edge features that elevate it to flagship status. With the all-new Snapdragon 8 Elite processor at its core, this device promises lightning-fast performance, making it ideal for power users and gamers alike. Although Realme hasn’t yet confirmed an official launch date for India, excitement is growing as fans eagerly await more details on its release. In this article, we’ll explore what’s anticipated for the GT 7 Pro, from its expected price to its impressive display and camera technology, and why it might be one of Realme’s most exciting launches yet.  Table of Contents Realme GT 7 Pro Specifications Realme GT 7 Pro Display Realme GT 7 Pro Performance Realme GT 7 Pro Camera Realme GT 7 Pro Battery Realme GT 7 Pro Color options And Design Realme GT 7 Pro Launch Date in India Realme GT 7 Pro Price in India Realme GT 7 Pro Specifications The Realme GT 7 Pro is expected to feature a 6.78-inch LTPO AMOLED display with a smooth 120Hz refresh rate, delivering sharp visuals and vibrant colors. Likely powered by the Snapdragon 8 Elite processor and paired with 12GB RAM, it promises high-speed performance suited for gaming and multitasking. The anticipated triple-camera setup includes a 50 MP main sensor with advanced zoom, capturing clear and detailed photos. Additionally, it’s rumored to house a robust 6500 mAh battery with ultra-fast 120W charging, making it a powerhouse for users seeking top-tier specs.  Specification\tDetails Key Specs\t RAM\t12 GB Processor\tQualcomm Snapdragon 8 Elite Rear Camera\t50 MP + 8 MP + 50 MP Front Camera\t16 MP Battery\t6500 mAh Display\t6.78 inches (17.22 cm) General\t Operating System\tAndroid v14 Performance\t Chipset\tQualcomm Snapdragon 8 Elite RAM\t12 GB Display\t Display Type\tLTPO OLED Screen Size\t6.78 inches (17.22 cm) Bezel-less Display\tYes, with punch-hole display Touch Screen\tYes, Capacitive Touchscreen, Multi-touch Camera\t Rear Camera Setup\tTriple Rear Camera Resolution\t50 MP (Primary), 8 MP, 50 MP Flash\tYes, LED Flash Front Camera Setup\tSingle Front Camera Resolution\t16 MP, Primary Camera Battery\t Capacity\t6500 mAh Removable\tNo Quick Charging\tYes, Fast Storage\t Internal Memory\t256 GB Network & Connectivity\t SIM Slot(s)\tSingle SIM Network Support\t5G Supported in India, 4G, 3G, 2G VoLTE\tYes SIM 1\t5G Bands: FDD N3, TDD N40; 4G Bands: TD-LTE 2300 (band 40), FD-LTE 1800 (band 3); 3G Bands: UMTS 2100 / 900 MHz; 2G Bands: GSM 1800 / 900 MHz GPRS\tAvailable EDGE\tAvailable Network Technology\t Technology\tGSM / HSPA / LTE / 5G 2G Bands\tGSM 850 / 900 / 1800 / 1900 – SIM 1 & SIM 2 3G Bands\tHSDPA 800 / 850 / 900 / 1700(AWS) / 1900 / 2100 4G Bands\tLTE 5G Bands\tSA/NSA Speed\tHSPA, LTE, 5G Launch\t Announced\tNot announced yet Status\tRumored Body\t Dimensions\t162.5 x 76.9 x 8.6 mm (6.40 x 3.03 x 0.34 in) Weight\t222.8 g (7.87 oz) SIM\tDual SIM (Nano-SIM, dual stand-by) Waterproof Rating\tIP68 dust and water resistant Advanced Display\t Type\tLTPO AMOLED, 1B colors, 120Hz, HDR, Dolby Vision Screen Size\t6.78 inches (~89.4% screen-to-body ratio) Resolution\t1264 x 2780 pixels (~450 ppi density) Protection\tCorning Gorilla Glass Victus 2 Platform\t OS\tAndroid 15 Chipset\tQualcomm SM8750-AB Snapdragon 8 Elite (3 nm) CPU\tOcta-core (2×4.20 GHz Oryon V2 Phoenix L + 6×3.53 GHz Oryon V2 Phoenix M) GPU\tAdreno 830 Memory\t Card Slot\tNo Internal\tUp to 1TB, 24GB RAM, UFS 4.0 Main Camera\t Camera Setup\tTriple: 50 MP (wide), 50 MP (periscope telephoto, 3x optical zoom), 8 MP (ultrawide) Features\tDual-LED flash, HDR, panorama Video\t4K@30/60fps, 1080p@30/60/120fps, gyro-EIS, OIS Selfie Camera\t Camera Setup\tSingle: 16 MP (wide) Features\tPanorama Video\t4K@30fps, 1080p@30fps, gyro-EIS Sound\t Loudspeaker\tYes, with stereo speakers 3.5mm Jack\tNo Hi-Res Audio\t24-bit/192kHz Connectivity\t WLAN\tWi-Fi 802.11 a/b/g/n/ac/6/7, dual-band Bluetooth\t5.4, A2DP, LE Positioning\tGPS (L1+L5), BDS (B1I+B1c+B2a), GALILEO (E1+E5a), QZSS (L1+L5), NavIC, GLONASS NFC\tYes Infrared Port\tYes USB\tUSB Type-C Features\t Sensors\tFingerprint (under display, ultrasonic), accelerometer, gyro, proximity, compass, color spectrum Battery\t Type\t6500 mAh, non-removable Charging\t120W wired Miscellaneous\t Colors\tGray, White, Orange Models\tRMX5010, RMX5011 Realme GT 7 Pro Display The Realme GT 7 Pro comes equipped with a stunning 6.78-inch LTPO AMOLED display, which delivers vibrant colors, sharp contrast, and an impressive 120Hz refresh rate. This high refresh rate ensures smooth scrolling and an immersive visual experience, whether you’re browsing, gaming, or streaming videos. With Corning Gorilla Glass Victus 2 protection, it’s well-protected against everyday wear and tear, enhancing its durability.  Realme GT 7 Pro with ip68Realme GT 7 Pro with ip68 Realme GT 7 Pro Performance Performance-wise, the Realme GT 7 Pro is powered by the Qualcomm Snapdragon 8 Elite chipset, built on a 3nm process for excellent efficiency and speed. Combined with a hefty 12 GB RAM, it handles multitasking effortlessly and provides a smooth experience for demanding applications and games. The Adreno 830 GPU enhances graphics performance, making it ideal for gamers who expect high frame rates and seamless visuals.  Realme GT 7 Pro Camera The camera setup is impressive, featuring a 50 MP primary sensor, an 8 MP ultra-wide lens, and a 50 MP periscope telephoto camera with 3x optical zoom, allowing users to capture high-quality photos in various scenarios. The dual-LED flash helps illuminate low-light scenes, and advanced video capabilities, including 4K recording and optical image stabilization, ensure smooth and detailed footage.  Realme GT 7 Pro mars designRealme GT 7 Pro mars design Realme GT 7 Pro Battery A powerful 6500 mAh battery powers the Realme GT 7 Pro, delivering a long-lasting charge even for heavy users. It also supports 120W fast charging, which drastically reduces downtime by quickly recharging the phone, so users can spend more time enjoying their device and less time tethered to a charger.  Realme GT 7 Pro Color options And Design The Realme GT 7 Pro is available in three stylish color options—Gray, White, and Orange—each designed to make a statement. Its sleek and modern look combines with a refined finish to offer a premium feel. The choice of colors caters to various tastes, from the understated elegance of Gray and White to the bold, eye-catching appeal of Orange. This color variety allows users to pick a shade that best suits their style, enhancing the device’s appeal as both a tech powerhouse and a fashionable accessory.  Realme GT 7 Pro Colour designRealme GT 7 Pro Colour design Realme GT 7 Pro Launch Date in India While Realme has yet to officially confirm a launch date for the Realme GT 7 Pro in India, anticipation is already building among tech enthusiasts and fans. With its impressive specifications and rumored features, the GT 7 Pro is expected to make a strong entry in the market once released. As the brand continues to hint at exciting innovations, many are eagerly waiting for an announcement, hoping it will arrive soon to deliver the latest in cutting-edge technology.  Realme GT 7 Pro Price in India The Realme GT 7 Pro is yet to be officially announced, but early estimates suggest that its starting price in India may be around ₹54,990. This price range aligns with the trend set by Realme’s previous GT series, known for delivering premium features at competitive prices. If these expectations hold true, the GT 7 Pro could offer exceptional value with its high-end performance, advanced camera capabilities, and powerful battery, making it an attractive option for those looking for flagship quality without the flagship price tag.\n",
      "done\n",
      "\n",
      "Now, let's collect the blog format\n",
      "Realme GT 7 Pro Specifications Realme GT 7 Pro Display Realme GT 7 Pro Performance Realme GT 7 Pro Camera Realme GT 7 Pro Battery Realme GT 7 Pro Color options And Design Realme GT 7 Pro Launch Date in India Realme GT 7 Pro Price in India\n",
      "\n",
      "Step 2: Generating optimized search queries...\n",
      "\n",
      "Step 3: Creating blog content...\n",
      "\n",
      "==================================================\n",
      "GENERATED BLOG POST\n",
      "==================================================\n",
      "\n",
      "**Realme GT 7 Pro: The Game-Changing Flagship That's About to Revolutionize the Smartphone Industry**\n",
      "\n",
      "**Introduction**\n",
      "\n",
      "Are you ready to experience the ultimate smartphone experience? The Realme GT 7 Pro is generating a buzz in the tech community, and for good reason. With its powerful features and cutting-edge technology, this device is set to elevate the smartphone experience to new heights. In this article, we'll dive into the world of the Realme GT 7 Pro, exploring its impressive specifications, design, display, performance, camera capabilities, and more.\n",
      "\n",
      "**Design and Display: A True Marvel of Engineering**\n",
      "\n",
      "The Realme GT 7 Pro features a stunning 6.78-inch LTPO AMOLED display with a smooth 120Hz refresh rate, delivering vibrant colors, sharp contrast, and an immersive visual experience. With Corning Gorilla Glass Victus 2 protection, this display is built to last, providing durability and protection against everyday wear and tear. The sleek and modern design of the phone combines with a refined finish to offer a premium feel, making it a stylish accessory that's sure to turn heads.\n",
      "\n",
      "**Technical Specifications:**\n",
      "\n",
      "* Display: 6.78-inch LTPO AMOLED\n",
      "* Refresh Rate: 120Hz\n",
      "* Resolution: 1264 x 2780 pixels (~450 ppi density)\n",
      "* Protection: Corning Gorilla Glass Victus 2\n",
      "\n",
      "**Performance and Battery: Unmatched Power and Endurance**\n",
      "\n",
      "The Realme GT 7 Pro is powered by the Qualcomm Snapdragon 8 Elite chipset, built on a 3nm process for excellent efficiency and speed. Combined with a hefty 12 GB RAM, this device handles multitasking effortlessly and provides a smooth experience for demanding applications and games. The Adreno 830 GPU enhances graphics performance, making it ideal for gamers who expect high frame rates and seamless visuals. With a powerful 6500 mAh battery and 120W fast charging, the Realme GT 7 Pro delivers a long-lasting charge and reduces downtime to a minimum.\n",
      "\n",
      "**Technical Specifications:**\n",
      "\n",
      "* Processor: Qualcomm Snapdragon 8 Elite\n",
      "* RAM: 12 GB\n",
      "* Battery: 6500 mAh\n",
      "* Charging: 120W fast charging\n",
      "\n",
      "**Camera: Capturing Life's Precious Moments with Ease**\n",
      "\n",
      "The Realme GT 7 Pro features a triple-camera setup with a 50 MP primary sensor, an 8 MP ultra-wide lens, and a 50 MP periscope telephoto camera with 3x optical zoom. This setup delivers high-quality photos in various scenarios, with advanced video capabilities and optical image stabilization ensuring smooth and detailed footage.\n",
      "\n",
      "**Technical Specifications:**\n",
      "\n",
      "* Rear Camera: 50 MP (primary) + 8 MP (ultra-wide) + 50 MP (periscope telephoto)\n",
      "* Features: Dual-LED flash, HDR, panorama\n",
      "* Front Camera: 16 MP (wide)\n",
      "\n",
      "**Software and Additional Features:**\n",
      "\n",
      "The Realme GT 7 Pro runs on Android v14 and features a range of additional features, including Wi-Fi 802.11 a/b/g/n/ac/6/7, Bluetooth 5.4, and NFC. With IP68 dust and water resistance, this device is built to withstand the elements, making it a great choice for outdoor enthusiasts.\n",
      "\n",
      "**Technical Specifications:**\n",
      "\n",
      "* Operating System: Android v14\n",
      "* Wi-Fi: 802.11 a/b/g/n/ac/6/7\n",
      "* Bluetooth: 5.4\n",
      "* NFC: Yes\n",
      "\n",
      "**Comparison and Verdict:**\n",
      "\n",
      "The Realme GT 7 Pro is set to take on the smartphone market by storm, offering a compelling blend of performance, camera capabilities, and design. With its flagship features at an affordable price point, this device is an attractive option for those looking for a premium smartphone experience without breaking the bank.\n",
      "\n",
      "**Conclusion**\n",
      "\n",
      "The Realme GT 7 Pro is an exciting addition to the world of smartphones, offering a unique blend of performance, design, and camera capabilities. With its powerful features and affordable price point, this device is set to revolutionize the smartphone industry. If you're in the market for a new smartphone, the Realme GT 7 Pro is definitely worth considering.\n",
      "\n",
      "==================================================\n",
      "\n",
      "Blog saved to: blog_Tech_20241104_130542.txt\n"
     ]
    }
   ],
   "source": [
    "# Run the complete blog generation process\n",
    "blog_content, filename = generate_final_blog()"
   ]
  },
  {
   "cell_type": "code",
   "execution_count": null,
   "metadata": {
    "id": "skcPq75cRvwR"
   },
   "outputs": [],
   "source": []
  }
 ],
 "metadata": {
  "colab": {
   "provenance": []
  },
  "kernelspec": {
   "display_name": "Python 3",
   "name": "python3"
  },
  "language_info": {
   "name": "python"
  }
 },
 "nbformat": 4,
 "nbformat_minor": 0
}
